{
 "cells": [
  {
   "cell_type": "markdown",
   "metadata": {},
   "source": [
    "# Анализ показателей интернет-сайта"
   ]
  },
  {
   "cell_type": "code",
   "execution_count": 317,
   "metadata": {},
   "outputs": [],
   "source": [
    "import pandas as pd\n",
    "from scipy.stats import mannwhitneyu\n",
    "from scipy import stats\n",
    "import seaborn as sns\n",
    "from scipy.stats import chi2_contingency\n",
    "import matplotlib.pyplot as plt\n",
    "import numpy as np\n",
    "import requests\n",
    "from urllib.parse import urlencode\n",
    "from io import StringIO\n",
    "from statsmodels.stats.proportion import proportions_ztest"
   ]
  },
  {
   "cell_type": "markdown",
   "metadata": {},
   "source": [
    "##1. A/B–тестирование"
   ]
  },
  {
   "cell_type": "markdown",
   "metadata": {},
   "source": [
    "Составление словаря с названиями csv-файлов, используемых в проекте, и ссылками на них.\n",
    "\n",
    "**groups** - файл с информацией о принадлежности пользователя к контрольной или экспериментальной группе (А – контроль, B – целевая группа)<br>\n",
    "**active_studs** - файл с информацией о пользователях, которые зашли на платформу в дни проведения эксперимента.<br>\n",
    "**checks** - файл с информацией об оплатах пользователей в дни проведения эксперимента."
   ]
  },
  {
   "cell_type": "code",
   "execution_count": 318,
   "metadata": {},
   "outputs": [],
   "source": [
    "url = {\"groups\":\"https://disk.yandex.ru/d/UhyYx41rTt3clQ\",\\\n",
    "       \"active_studs\":\"https://disk.yandex.ru/d/Tbs44Bm6H_FwFQ\",\\\n",
    "      \"checks\":\"https://disk.yandex.ru/d/pH1q-VqcxXjsVA\"}"
   ]
  },
  {
   "cell_type": "markdown",
   "metadata": {},
   "source": [
    "Написание функции для загрузки данных."
   ]
  },
  {
   "cell_type": "code",
   "execution_count": 319,
   "metadata": {},
   "outputs": [],
   "source": [
    "def loading_data (url):\n",
    "    start_url = 'https://cloud-api.yandex.net/v1/disk/public/resources/download?'    \n",
    "    for key in url.keys():        \n",
    "        df_name = key\n",
    "        full_url = start_url + urlencode({'public_key': url[key]})\n",
    "        response = requests.get(full_url)\n",
    "        load_url = response.json()['href']\n",
    "        df_name = key        \n",
    "        try:                          \n",
    "            if pd.read_csv(load_url, sep=',', nrows=1).shape[1] > 1:                \n",
    "                globals()[df_name] = pd.read_csv(load_url, sep = ',')\n",
    "                print(f\"Создан DataFrame {key}\") \n",
    "            elif pd.read_csv(load_url, sep=';', nrows=1).shape[1] > 1:\n",
    "                globals()[df_name] = pd.read_csv(load_url, sep = ';')\n",
    "                print(f\"Создан DataFrame {key}\")\n",
    "            else:\n",
    "                globals()[df_name] = pd.read_csv(load_url)\n",
    "                print(f\"Создан DataFrame {key}\")\n",
    "        except Exception as e:\n",
    "            print(f\"Ошибка при загрузке {key}: {e}\")"
   ]
  },
  {
   "cell_type": "markdown",
   "metadata": {},
   "source": [
    "Вызов функции загрузки данных"
   ]
  },
  {
   "cell_type": "code",
   "execution_count": 320,
   "metadata": {},
   "outputs": [
    {
     "name": "stdout",
     "output_type": "stream",
     "text": [
      "Создан DataFrame groups\n",
      "Создан DataFrame active_studs\n",
      "Создан DataFrame checks\n"
     ]
    }
   ],
   "source": [
    "loading_data(url)"
   ]
  },
  {
   "cell_type": "markdown",
   "metadata": {},
   "source": [
    "Добавление новой колонки чтобы при дальнейшем объединении можно было определить активного клиента"
   ]
  },
  {
   "cell_type": "code",
   "execution_count": 321,
   "metadata": {},
   "outputs": [],
   "source": [
    "active_studs['active'] = 1"
   ]
  },
  {
   "cell_type": "markdown",
   "metadata": {},
   "source": [
    "Создание пустых df для изменения через функции."
   ]
  },
  {
   "cell_type": "code",
   "execution_count": 322,
   "metadata": {},
   "outputs": [],
   "source": [
    "full_df = pd.DataFrame()\n",
    "metricks = pd.DataFrame()"
   ]
  },
  {
   "cell_type": "markdown",
   "metadata": {},
   "source": [
    "Напишем функцию которая будет объединять данные."
   ]
  },
  {
   "cell_type": "code",
   "execution_count": 323,
   "metadata": {},
   "outputs": [],
   "source": [
    "def data_generation ():\n",
    "    global full_df\n",
    "        \n",
    "    full_df = pd.merge(groups, checks, left_on='id', right_on='student_id', how='left')\n",
    "    full_df = pd.merge(full_df, active_studs, left_on='id', right_on='student_id', how='left')\n",
    "    del full_df['student_id_x']\n",
    "    del full_df['student_id_y']"
   ]
  },
  {
   "cell_type": "markdown",
   "metadata": {},
   "source": [
    "Запуск функции объединения данных."
   ]
  },
  {
   "cell_type": "code",
   "execution_count": 324,
   "metadata": {},
   "outputs": [],
   "source": [
    "data_generation ()"
   ]
  },
  {
   "cell_type": "markdown",
   "metadata": {},
   "source": [
    "Напишем функцию которая будет расчитывать метрики на основе существующих файлов."
   ]
  },
  {
   "cell_type": "code",
   "execution_count": 325,
   "metadata": {},
   "outputs": [],
   "source": [
    "def сalculation_metrics ():\n",
    "    global metricks\n",
    "    # Расчет основных метрик\n",
    "    metricks = full_df.groupby('grp',as_index = False).agg(revenue=('rev', 'sum'),user_count=('id', 'count'),active_user_count=('active', 'count'), paying_user = ('rev', 'count') )\n",
    "    metricks['revenue'] = round(metricks['revenue'] ,2)    \n",
    "    metricks = pd.merge(metricks, (full_df.query(\"rev != 'NaN' and active != 'NaN'\").groupby('grp',as_index = False).agg(revenue_active = ('rev','sum'))), on='grp')  \n",
    "    metricks['revenue_active'] = round(metricks['revenue_active'] ,2)\n",
    "    metricks['active_user_pct'] = round(metricks['active_user_count'] *100/ metricks['user_count'],2)\n",
    "    metricks['cr_to_paying'] = round(metricks['paying_user']*100/metricks['user_count'],2)    \n",
    "    metricks['aov'] = round(metricks['revenue'] / metricks['paying_user'],2)\n",
    "    metricks['arpu'] = round(metricks['revenue']/metricks['user_count'],2)\n",
    "    metricks['arpau'] = round(metricks['revenue_active']/metricks['active_user_count'],2)\n",
    "    \n",
    "    return metricks"
   ]
  },
  {
   "cell_type": "markdown",
   "metadata": {},
   "source": [
    "Проверка размера групп"
   ]
  },
  {
   "cell_type": "code",
   "execution_count": 326,
   "metadata": {},
   "outputs": [
    {
     "data": {
      "text/html": [
       "<div>\n",
       "<style scoped>\n",
       "    .dataframe tbody tr th:only-of-type {\n",
       "        vertical-align: middle;\n",
       "    }\n",
       "\n",
       "    .dataframe tbody tr th {\n",
       "        vertical-align: top;\n",
       "    }\n",
       "\n",
       "    .dataframe thead th {\n",
       "        text-align: right;\n",
       "    }\n",
       "</style>\n",
       "<table border=\"1\" class=\"dataframe\">\n",
       "  <thead>\n",
       "    <tr style=\"text-align: right;\">\n",
       "      <th></th>\n",
       "      <th>grp</th>\n",
       "      <th>id</th>\n",
       "    </tr>\n",
       "  </thead>\n",
       "  <tbody>\n",
       "    <tr>\n",
       "      <th>0</th>\n",
       "      <td>A</td>\n",
       "      <td>14671</td>\n",
       "    </tr>\n",
       "    <tr>\n",
       "      <th>1</th>\n",
       "      <td>B</td>\n",
       "      <td>59813</td>\n",
       "    </tr>\n",
       "  </tbody>\n",
       "</table>\n",
       "</div>"
      ],
      "text/plain": [
       "  grp     id\n",
       "0   A  14671\n",
       "1   B  59813"
      ]
     },
     "execution_count": 326,
     "metadata": {},
     "output_type": "execute_result"
    }
   ],
   "source": [
    "full_df.groupby('grp',as_index = False)['id'].nunique()"
   ]
  },
  {
   "cell_type": "markdown",
   "metadata": {},
   "source": [
    "**Вывод:** размер групп сильно отличается. Возможно есть проблема в системе сплитования."
   ]
  },
  {
   "cell_type": "markdown",
   "metadata": {},
   "source": [
    "Проверка количества платящих клиентов, не заходящих в приложение."
   ]
  },
  {
   "cell_type": "code",
   "execution_count": 327,
   "metadata": {},
   "outputs": [
    {
     "data": {
      "text/plain": [
       "149"
      ]
     },
     "execution_count": 327,
     "metadata": {},
     "output_type": "execute_result"
    }
   ],
   "source": [
    "full_df.query(\"rev != 'NaN' and active == 'NaN'\")['id'].count()"
   ]
  },
  {
   "cell_type": "markdown",
   "metadata": {},
   "source": [
    "**Вывод**: у части клиентов (149 чел) прошла оплата без захода в приложение. Возможно произошла ошибка в системе оплаты либо у данных клиентов была оформлена подписка. Необходимы данные по клиентам с оформленной подпиской (если есть такая услуга). Вышеуказанные клиенты не будут учитываться для в дальнейшем исследовании. "
   ]
  },
  {
   "cell_type": "markdown",
   "metadata": {},
   "source": [
    "Исключение 149 клиентов из исследования."
   ]
  },
  {
   "cell_type": "code",
   "execution_count": 328,
   "metadata": {},
   "outputs": [],
   "source": [
    "full_df = full_df.query(\"(rev != 'NaN' and active == 'NaN') == False\")"
   ]
  },
  {
   "cell_type": "markdown",
   "metadata": {},
   "source": [
    "Запуск функции расчета метрик."
   ]
  },
  {
   "cell_type": "code",
   "execution_count": 329,
   "metadata": {
    "scrolled": true
   },
   "outputs": [
    {
     "data": {
      "text/html": [
       "<div>\n",
       "<style scoped>\n",
       "    .dataframe tbody tr th:only-of-type {\n",
       "        vertical-align: middle;\n",
       "    }\n",
       "\n",
       "    .dataframe tbody tr th {\n",
       "        vertical-align: top;\n",
       "    }\n",
       "\n",
       "    .dataframe thead th {\n",
       "        text-align: right;\n",
       "    }\n",
       "</style>\n",
       "<table border=\"1\" class=\"dataframe\">\n",
       "  <thead>\n",
       "    <tr style=\"text-align: right;\">\n",
       "      <th></th>\n",
       "      <th>grp</th>\n",
       "      <th>revenue</th>\n",
       "      <th>user_count</th>\n",
       "      <th>active_user_count</th>\n",
       "      <th>paying_user</th>\n",
       "      <th>revenue_active</th>\n",
       "      <th>active_user_pct</th>\n",
       "      <th>cr_to_paying</th>\n",
       "      <th>aov</th>\n",
       "      <th>arpu</th>\n",
       "      <th>arpau</th>\n",
       "    </tr>\n",
       "  </thead>\n",
       "  <tbody>\n",
       "    <tr>\n",
       "      <th>0</th>\n",
       "      <td>A</td>\n",
       "      <td>72820.0</td>\n",
       "      <td>14642</td>\n",
       "      <td>1535</td>\n",
       "      <td>78</td>\n",
       "      <td>72820.0</td>\n",
       "      <td>10.48</td>\n",
       "      <td>0.53</td>\n",
       "      <td>933.59</td>\n",
       "      <td>4.97</td>\n",
       "      <td>47.44</td>\n",
       "    </tr>\n",
       "    <tr>\n",
       "      <th>1</th>\n",
       "      <td>B</td>\n",
       "      <td>393074.0</td>\n",
       "      <td>59693</td>\n",
       "      <td>6793</td>\n",
       "      <td>313</td>\n",
       "      <td>393074.0</td>\n",
       "      <td>11.38</td>\n",
       "      <td>0.52</td>\n",
       "      <td>1255.83</td>\n",
       "      <td>6.58</td>\n",
       "      <td>57.86</td>\n",
       "    </tr>\n",
       "  </tbody>\n",
       "</table>\n",
       "</div>"
      ],
      "text/plain": [
       "  grp   revenue  user_count  active_user_count  paying_user  revenue_active  \\\n",
       "0   A   72820.0       14642               1535           78         72820.0   \n",
       "1   B  393074.0       59693               6793          313        393074.0   \n",
       "\n",
       "   active_user_pct  cr_to_paying      aov  arpu  arpau  \n",
       "0            10.48          0.53   933.59  4.97  47.44  \n",
       "1            11.38          0.52  1255.83  6.58  57.86  "
      ]
     },
     "execution_count": 329,
     "metadata": {},
     "output_type": "execute_result"
    }
   ],
   "source": [
    "сalculation_metrics ()"
   ]
  },
  {
   "cell_type": "markdown",
   "metadata": {},
   "source": [
    "**Вывод:**: гляда на выведенные метрики из таблицы metricks можно увидеть, что бальшая часть относительных показателей в группах существенно не отличаются. Показатель aov (средний размер оплаты) выделяется на их фоне и явно имеет различия между группами.<br>\n",
    "\n",
    "Для дальнейшего исследования можно выделить следующие метрики, отражающие изменения в системе оплаты:<br>\n",
    "- **AOV**<br>\n",
    "- **CR** в платящего<br>\n",
    "- **ARPAU**"
   ]
  },
  {
   "cell_type": "markdown",
   "metadata": {},
   "source": [
    "### Анализ AOV"
   ]
  },
  {
   "cell_type": "markdown",
   "metadata": {},
   "source": [
    "Подготовка групп"
   ]
  },
  {
   "cell_type": "code",
   "execution_count": 330,
   "metadata": {},
   "outputs": [],
   "source": [
    "a = full_df.query(\"grp == 'A' and rev != 'Nan'\")['rev'] \n",
    "b = full_df.query(\"grp == 'B' and rev != 'Nan'\")['rev'] "
   ]
  },
  {
   "cell_type": "markdown",
   "metadata": {},
   "source": [
    "Проверка распределения на нормальность."
   ]
  },
  {
   "cell_type": "code",
   "execution_count": 331,
   "metadata": {},
   "outputs": [
    {
     "data": {
      "text/plain": [
       "NormaltestResult(statistic=30.378419638487475, pvalue=2.5316868804220266e-07)"
      ]
     },
     "execution_count": 331,
     "metadata": {},
     "output_type": "execute_result"
    }
   ],
   "source": [
    "stats.normaltest(a)"
   ]
  },
  {
   "cell_type": "code",
   "execution_count": 332,
   "metadata": {},
   "outputs": [
    {
     "name": "stdout",
     "output_type": "stream",
     "text": [
      "1.4986822893803264e-10\n"
     ]
    }
   ],
   "source": [
    "statistic, p_value = stats.shapiro(a)\n",
    "print(p_value)"
   ]
  },
  {
   "cell_type": "code",
   "execution_count": 333,
   "metadata": {},
   "outputs": [
    {
     "data": {
      "text/plain": [
       "NormaltestResult(statistic=7.022269699078301, pvalue=0.029863005181946005)"
      ]
     },
     "execution_count": 333,
     "metadata": {},
     "output_type": "execute_result"
    }
   ],
   "source": [
    "stats.normaltest(b)"
   ]
  },
  {
   "cell_type": "code",
   "execution_count": 334,
   "metadata": {},
   "outputs": [
    {
     "name": "stdout",
     "output_type": "stream",
     "text": [
      "1.756778758085431e-16\n"
     ]
    }
   ],
   "source": [
    "statistic, p_value = stats.shapiro(b)\n",
    "print(p_value)"
   ]
  },
  {
   "cell_type": "markdown",
   "metadata": {},
   "source": [
    "**Вывод:** распределение ненормальное в обеих группах. Несмотря на ненормальность распределения, благодаря большому размеру выборки (n > 30), согласно центральной предельной теореме, распределение выборочных средних будет приближаться к нормальному, что позволяет использовать Т-тест."
   ]
  },
  {
   "cell_type": "markdown",
   "metadata": {},
   "source": [
    "Проверка равенства дисперсий при помощи теста Левене, который более устойчив к отклонениям от нормальности."
   ]
  },
  {
   "cell_type": "code",
   "execution_count": 335,
   "metadata": {},
   "outputs": [
    {
     "name": "stdout",
     "output_type": "stream",
     "text": [
      "0.08123509393501775\n"
     ]
    }
   ],
   "source": [
    "statistic, p_value = stats.levene(a, b)\n",
    "print(p_value)"
   ]
  },
  {
   "cell_type": "markdown",
   "metadata": {},
   "source": [
    "**Вывод:** нет оснований отклонять нулевую гипотезу о равенстве дисперсий. Для дальнейшего анализа можно применить Т-тест Стьюдента."
   ]
  },
  {
   "cell_type": "markdown",
   "metadata": {},
   "source": [
    "Проведение Т-теста."
   ]
  },
  {
   "cell_type": "code",
   "execution_count": 336,
   "metadata": {},
   "outputs": [
    {
     "name": "stdout",
     "output_type": "stream",
     "text": [
      "0.001999178025210522\n"
     ]
    }
   ],
   "source": [
    "t_statistic, p_value = stats.ttest_ind(a, b)\n",
    "print(p_value)"
   ]
  },
  {
   "cell_type": "markdown",
   "metadata": {},
   "source": [
    "**Вывод:** удалось получить стат значимое различие в размере среднего платежа между тестовой и контрольной группой. В тестовой группе AOV выше на 322 единицы."
   ]
  },
  {
   "cell_type": "markdown",
   "metadata": {},
   "source": [
    "### Анализ CR"
   ]
  },
  {
   "cell_type": "markdown",
   "metadata": {},
   "source": [
    "Подготовка данных."
   ]
  },
  {
   "cell_type": "code",
   "execution_count": 337,
   "metadata": {
    "scrolled": true
   },
   "outputs": [],
   "source": [
    "all_user = list(сalculation_metrics ()['user_count'])\n",
    "paying_user = list(сalculation_metrics ()['paying_user'])"
   ]
  },
  {
   "cell_type": "markdown",
   "metadata": {},
   "source": [
    "Проведение Т-теста."
   ]
  },
  {
   "cell_type": "code",
   "execution_count": 338,
   "metadata": {},
   "outputs": [
    {
     "name": "stdout",
     "output_type": "stream",
     "text": [
      "0.9002155082697257\n"
     ]
    }
   ],
   "source": [
    "z_stat, p_value = proportions_ztest(paying_user, all_user)\n",
    "print(p_value)"
   ]
  },
  {
   "cell_type": "markdown",
   "metadata": {},
   "source": [
    "**Вывод:**  нет оснований отклонять нулевую гипотезу о равенстве конверсии в платящего у тестовой и контрольной группы."
   ]
  },
  {
   "cell_type": "markdown",
   "metadata": {},
   "source": [
    "### Анализ ARPAU"
   ]
  },
  {
   "cell_type": "markdown",
   "metadata": {},
   "source": [
    "Подготовка групп"
   ]
  },
  {
   "cell_type": "code",
   "execution_count": 339,
   "metadata": {},
   "outputs": [],
   "source": [
    "a_ARPAU = full_df.query(\"grp == 'A' and active == 1\")['rev'].fillna(0)\n",
    "b_ARPAU = full_df.query(\"grp == 'B' and active == 1\")['rev'].fillna(0)"
   ]
  },
  {
   "cell_type": "markdown",
   "metadata": {},
   "source": [
    "Проверка распределения на нормальность."
   ]
  },
  {
   "cell_type": "code",
   "execution_count": 340,
   "metadata": {
    "scrolled": true
   },
   "outputs": [
    {
     "data": {
      "text/plain": [
       "NormaltestResult(statistic=2235.0038926868115, pvalue=0.0)"
      ]
     },
     "execution_count": 340,
     "metadata": {},
     "output_type": "execute_result"
    }
   ],
   "source": [
    "stats.normaltest(a_ARPAU)"
   ]
  },
  {
   "cell_type": "code",
   "execution_count": 341,
   "metadata": {},
   "outputs": [
    {
     "name": "stdout",
     "output_type": "stream",
     "text": [
      "0.0\n"
     ]
    }
   ],
   "source": [
    "statistic, p_value = stats.shapiro(a_ARPAU)\n",
    "print(p_value)"
   ]
  },
  {
   "cell_type": "code",
   "execution_count": 342,
   "metadata": {},
   "outputs": [
    {
     "data": {
      "text/plain": [
       "NormaltestResult(statistic=7799.5839920248845, pvalue=0.0)"
      ]
     },
     "execution_count": 342,
     "metadata": {},
     "output_type": "execute_result"
    }
   ],
   "source": [
    "stats.normaltest(b_ARPAU)"
   ]
  },
  {
   "cell_type": "code",
   "execution_count": 343,
   "metadata": {},
   "outputs": [
    {
     "name": "stdout",
     "output_type": "stream",
     "text": [
      "0.0\n"
     ]
    },
    {
     "name": "stderr",
     "output_type": "stream",
     "text": [
      "/opt/tljh/user/lib/python3.7/site-packages/scipy/stats/morestats.py:1760: UserWarning: p-value may not be accurate for N > 5000.\n",
      "  warnings.warn(\"p-value may not be accurate for N > 5000.\")\n"
     ]
    }
   ],
   "source": [
    "statistic, p_value = stats.shapiro(b_ARPAU)\n",
    "print(p_value)"
   ]
  },
  {
   "cell_type": "markdown",
   "metadata": {},
   "source": [
    "**Вывод:** распределение ненормальное в обеих группах. Несмотря на ненормальность распределения, благодаря большому размеру выборки (n > 30), согласно центральной предельной теореме, распределение выборочных средних будет приближаться к нормальному, что позволяет использовать Т-тест."
   ]
  },
  {
   "cell_type": "markdown",
   "metadata": {},
   "source": [
    "Проверка равенства дисперсий при помощи теста Левене, который более устойчив к отклонениям от нормальности."
   ]
  },
  {
   "cell_type": "code",
   "execution_count": 344,
   "metadata": {},
   "outputs": [
    {
     "name": "stdout",
     "output_type": "stream",
     "text": [
      "0.2328800964343609\n"
     ]
    }
   ],
   "source": [
    "statistic, p_value = stats.levene(a_ARPAU, b_ARPAU)\n",
    "print(p_value)"
   ]
  },
  {
   "cell_type": "markdown",
   "metadata": {},
   "source": [
    "**Вывод:** Нет оснований отклонять нулевую гипотезу о равенстве дисперсий. Для дальнейшего анализа можно применить Т-тест Стьюдента."
   ]
  },
  {
   "cell_type": "markdown",
   "metadata": {},
   "source": [
    "Проведение Т-теста."
   ]
  },
  {
   "cell_type": "code",
   "execution_count": 345,
   "metadata": {},
   "outputs": [
    {
     "name": "stdout",
     "output_type": "stream",
     "text": [
      "0.2328800964324922\n"
     ]
    }
   ],
   "source": [
    "t_statistic, p_value = stats.ttest_ind(a_ARPAU, b_ARPAU)\n",
    "print(p_value)"
   ]
  },
  {
   "cell_type": "markdown",
   "metadata": {},
   "source": [
    "**Вывод:** нет оснований отклонять нулевую гипотезу о равенстве средних значений у тестовой и контрольной группы."
   ]
  },
  {
   "cell_type": "markdown",
   "metadata": {},
   "source": [
    "**Итог:** \n",
    "1. Удалось доказать что, стат значимо увеличился средний платеж на платящего клиента. (AOV)<br>\n",
    "2. Удалось доказать что, увеличение ARPAU в тестовой группе было не стат значимо.<br>\n",
    "3. Удалось доказать что, уменьшение конверсии в платящего (cr_to_paying) не стат значимо. <br>\n",
    "\n",
    "**Вывод:** так как средний платеж на платящего клиента стат значимо увеличился, а другие метрики стат значимо не ухудшались\n",
    "можно резюмировать, что изменения положительно повлияли на тестовую группу (B) новую механику на всех пользователей."
   ]
  },
  {
   "cell_type": "markdown",
   "metadata": {},
   "source": [
    "## 2. Создание функций обновления данных и вузуализации\n",
    "### 2.1 Обновление данных \n",
    "Реализовать функцию, которая будет автоматически подгружать информацию из дополнительного файла (заголовки могут отличаться) и на основании дополнительных параметров пересчитывать метрики.<br>\n",
    "**groups_add** - дополнительный файл с пользователями, который прислали спустя 2 дня после передачи данных."
   ]
  },
  {
   "cell_type": "code",
   "execution_count": 251,
   "metadata": {},
   "outputs": [],
   "source": [
    "def updating_clients ():\n",
    "        # Определение уже существующего списка клиентов.  \n",
    "        global groups\n",
    "        old_df = groups\n",
    "        # Подгрузка нового списка клиентов. \n",
    "        url = {\"groups_add\":\"https://disk.yandex.ru/d/5Kxrz02m3IBUwQ\"} \n",
    "        loading_data(url)        \n",
    "        new_df = groups_add\n",
    "        # Определение названий колонок в новом списке.\n",
    "        for i in new_df:\n",
    "            if 'B' in list(new_df[i]) or 'A' in list(new_df[i]): \n",
    "                new_group_column = i        \n",
    "            else:\n",
    "                new_id_column = i\n",
    "        # Определение названий колонок в старом списке.\n",
    "        for j in old_df:\n",
    "            if 'B' in list(old_df[j]) or 'A' in list(old_df[j]): \n",
    "                old_group_column = j        \n",
    "            else:\n",
    "                old_id_column = j\n",
    "        # Приведение названий колонок нового списка в соответствие со старым.\n",
    "        df = new_df.rename(columns={new_group_column : old_group_column,new_id_column : old_id_column})\n",
    "        # Объединенние списков и установка правильных индексов.\n",
    "        df = pd.concat([old_df,df], axis=0).reset_index()        \n",
    "        del df['index']\n",
    "        # Проверка на дубликаты\n",
    "        df = df.drop_duplicates() \n",
    "        # Внесение изменений в изначальный список.\n",
    "        groups = df\n",
    "        # Запуск сборки общего df с новыми данными.\n",
    "        data_generation()\n",
    "        # Выдача актуальных метрик\n",
    "        return сalculation_metrics ()"
   ]
  },
  {
   "cell_type": "code",
   "execution_count": 215,
   "metadata": {},
   "outputs": [
    {
     "name": "stdout",
     "output_type": "stream",
     "text": [
      "Создан DataFrame groups_add\n"
     ]
    },
    {
     "data": {
      "text/html": [
       "<div>\n",
       "<style scoped>\n",
       "    .dataframe tbody tr th:only-of-type {\n",
       "        vertical-align: middle;\n",
       "    }\n",
       "\n",
       "    .dataframe tbody tr th {\n",
       "        vertical-align: top;\n",
       "    }\n",
       "\n",
       "    .dataframe thead th {\n",
       "        text-align: right;\n",
       "    }\n",
       "</style>\n",
       "<table border=\"1\" class=\"dataframe\">\n",
       "  <thead>\n",
       "    <tr style=\"text-align: right;\">\n",
       "      <th></th>\n",
       "      <th>grp</th>\n",
       "      <th>revenue</th>\n",
       "      <th>user_count</th>\n",
       "      <th>active_user_count</th>\n",
       "      <th>paying_user</th>\n",
       "      <th>revenue_active</th>\n",
       "      <th>active_user_pct</th>\n",
       "      <th>cr_to_paying</th>\n",
       "      <th>aov</th>\n",
       "      <th>arpu</th>\n",
       "      <th>arpau</th>\n",
       "    </tr>\n",
       "  </thead>\n",
       "  <tbody>\n",
       "    <tr>\n",
       "      <th>0</th>\n",
       "      <td>A</td>\n",
       "      <td>92096.0</td>\n",
       "      <td>14693</td>\n",
       "      <td>1538</td>\n",
       "      <td>107</td>\n",
       "      <td>72820.0</td>\n",
       "      <td>10.47</td>\n",
       "      <td>0.73</td>\n",
       "      <td>860.71</td>\n",
       "      <td>6.27</td>\n",
       "      <td>47.35</td>\n",
       "    </tr>\n",
       "    <tr>\n",
       "      <th>1</th>\n",
       "      <td>B</td>\n",
       "      <td>481230.0</td>\n",
       "      <td>59883</td>\n",
       "      <td>6803</td>\n",
       "      <td>434</td>\n",
       "      <td>394974.0</td>\n",
       "      <td>11.36</td>\n",
       "      <td>0.72</td>\n",
       "      <td>1108.82</td>\n",
       "      <td>8.04</td>\n",
       "      <td>58.06</td>\n",
       "    </tr>\n",
       "  </tbody>\n",
       "</table>\n",
       "</div>"
      ],
      "text/plain": [
       "  grp   revenue  user_count  active_user_count  paying_user  revenue_active  \\\n",
       "0   A   92096.0       14693               1538          107         72820.0   \n",
       "1   B  481230.0       59883               6803          434        394974.0   \n",
       "\n",
       "   active_user_pct  cr_to_paying      aov  arpu  arpau  \n",
       "0            10.47          0.73   860.71  6.27  47.35  \n",
       "1            11.36          0.72  1108.82  8.04  58.06  "
      ]
     },
     "execution_count": 215,
     "metadata": {},
     "output_type": "execute_result"
    }
   ],
   "source": [
    "updating_clients ()"
   ]
  },
  {
   "cell_type": "markdown",
   "metadata": {},
   "source": [
    "### 2.2 Визуализация данных\n",
    "Реализовать функцию, которая будет строить графики по получаемым метрикам."
   ]
  },
  {
   "cell_type": "markdown",
   "metadata": {},
   "source": [
    "Функция для визуализации величин платежей."
   ]
  },
  {
   "cell_type": "code",
   "execution_count": 298,
   "metadata": {},
   "outputs": [],
   "source": [
    "def vis_aov():\n",
    "    plt.figure(figsize=(10, 7)) # Увеличим размер графика для лучшей читаемости\n",
    "    sns.boxplot(x=\"grp\", y=\"rev\", data=full_df.query(\"rev != 'Nan'\")[['grp','rev']])\n",
    "    plt.title(\"Сравнение платежей от клиентов\")\n",
    "    plt.ylabel(\"Значение платежа\")\n",
    "    plt.xlabel(\"Группа\")\n",
    "    plt.grid(True)\n",
    "    plt.show()"
   ]
  },
  {
   "cell_type": "markdown",
   "metadata": {},
   "source": [
    "Функция для визуализации доли активных клиентов."
   ]
  },
  {
   "cell_type": "code",
   "execution_count": 314,
   "metadata": {},
   "outputs": [],
   "source": [
    "def vis_cr():\n",
    "    active_user = metricks[['grp','cr_to_paying']]\n",
    "    labels = active_user['grp']\n",
    "    android_users = [active_user['cr_to_paying'][0],active_user['cr_to_paying'][1]]\n",
    "    colors = ['#FF8000', '#0000FF']\n",
    "    width = 0.35       #Задаём ширину столбцов\n",
    "    fig, ax = plt.subplots()\n",
    "    ax.bar(labels, android_users, width, label='Неактивные',color=colors)\n",
    "    \n",
    "    ax.set_ylabel('Доля, в %')\n",
    "    ax.set_title('CR в платящего')\n",
    "    \n",
    "    fig.set_size_inches(10, 7)\n",
    "    plt.xlabel(\"Группа\")\n",
    "    plt.grid(True)\n",
    "    plt.show()"
   ]
  },
  {
   "cell_type": "code",
   "execution_count": 315,
   "metadata": {},
   "outputs": [],
   "source": [
    "def vis_arpau():\n",
    "    active_user = metricks[['grp','arpau']]\n",
    "    labels = active_user['grp']\n",
    "    android_users = [active_user['arpau'][0],active_user['arpau'][1]]\n",
    "    colors = ['#FF8000', '#0000FF']\n",
    "    \n",
    "    width = 0.35       #Задаём ширину столбцов\n",
    "    fig, ax = plt.subplots()\n",
    "    ax.bar(labels, android_users, width, label='Неактивные',color=colors)\n",
    "    \n",
    "    \n",
    "    ax.set_title('ARPAU')\n",
    "    \n",
    "    fig.set_size_inches(10, 7)\n",
    "    plt.xlabel(\"Группа\")\n",
    "    plt.grid(True)\n",
    "    plt.show()"
   ]
  },
  {
   "cell_type": "markdown",
   "metadata": {},
   "source": [
    "Функция, строящая графики по получаемым метрикам."
   ]
  },
  {
   "cell_type": "code",
   "execution_count": 304,
   "metadata": {},
   "outputs": [],
   "source": [
    "def visualisation ():\n",
    "    vis_aov ()\n",
    "    vis_cr ()\n",
    "    vis_arpau ()"
   ]
  },
  {
   "cell_type": "markdown",
   "metadata": {},
   "source": [
    "Запуск функции визуализации."
   ]
  },
  {
   "cell_type": "code",
   "execution_count": 316,
   "metadata": {},
   "outputs": [
    {
     "data": {
      "image/png": "[encoded data removed]",
      "text/plain": [
       "<Figure size 720x504 with 1 Axes>"
      ]
     },
     "metadata": {
      "needs_background": "light"
     },
     "output_type": "display_data"
    },
    {
     "data": {
      "image/png": "[encoded data removed]",
      "text/plain": [
       "<Figure size 720x504 with 1 Axes>"
      ]
     },
     "metadata": {
      "needs_background": "light"
     },
     "output_type": "display_data"
    },
    {
     "data": {
      "image/png": "[encoded data removed]",
      "text/plain": [
       "<Figure size 720x504 with 1 Axes>"
      ]
     },
     "metadata": {
      "needs_background": "light"
     },
     "output_type": "display_data"
    }
   ],
   "source": [
    "visualisation ()"
   ]
  }
 ],
 "metadata": {
  "kernelspec": {
   "display_name": "Python [conda env:base] *",
   "language": "python",
   "name": "conda-base-py"
  },
  "language_info": {
   "codemirror_mode": {
    "name": "ipython",
    "version": 3
   },
   "file_extension": ".py",
   "mimetype": "text/x-python",
   "name": "python",
   "nbconvert_exporter": "python",
   "pygments_lexer": "ipython3",
   "version": "3.12.7"
  }
 },
 "nbformat": 4,
 "nbformat_minor": 4
}
